{
 "cells": [
  {
   "cell_type": "markdown",
   "metadata": {},
   "source": [
    "*** 1. Why do we need pandas? Why do we need to use it ***\n",
    "\n",
    ". pandas is a python library used for working with data sets \n",
    ". pandas allws us to analyze big data and make conclusion based on statistical theories.\n",
    ". pandas can clean messy data set, and make them readable and relevant.\n",
    ". Relevant data is very important in data science."
   ]
  },
  {
   "cell_type": "code",
   "execution_count": 3,
   "metadata": {},
   "outputs": [
    {
     "name": "stdout",
     "output_type": "stream",
     "text": [
      "Requirement already satisfied: pandas in c:\\users\\devdh\\appdata\\local\\programs\\python\\python312\\lib\\site-packages (2.2.3)\n",
      "Requirement already satisfied: numpy>=1.26.0 in c:\\users\\devdh\\appdata\\local\\programs\\python\\python312\\lib\\site-packages (from pandas) (2.1.3)\n",
      "Requirement already satisfied: python-dateutil>=2.8.2 in c:\\users\\devdh\\appdata\\roaming\\python\\python312\\site-packages (from pandas) (2.9.0.post0)\n",
      "Requirement already satisfied: pytz>=2020.1 in c:\\users\\devdh\\appdata\\local\\programs\\python\\python312\\lib\\site-packages (from pandas) (2024.2)\n",
      "Requirement already satisfied: tzdata>=2022.7 in c:\\users\\devdh\\appdata\\local\\programs\\python\\python312\\lib\\site-packages (from pandas) (2024.2)\n",
      "Requirement already satisfied: six>=1.5 in c:\\users\\devdh\\appdata\\roaming\\python\\python312\\site-packages (from python-dateutil>=2.8.2->pandas) (1.16.0)\n"
     ]
    }
   ],
   "source": [
    "!pip install pandas"
   ]
  },
  {
   "cell_type": "markdown",
   "metadata": {},
   "source": [
    "**Import pandas**"
   ]
  },
  {
   "cell_type": "code",
   "execution_count": 5,
   "metadata": {},
   "outputs": [],
   "source": [
    "import pandas as pd\n"
   ]
  },
  {
   "cell_type": "markdown",
   "metadata": {},
   "source": [
    "***4.Data structures in pandas***\n",
    "pandas generally provides two data structures from manipulating data \n",
    "1) Series\n",
    "2) DataFrame"
   ]
  },
  {
   "cell_type": "markdown",
   "metadata": {},
   "source": [
    "***4.1 Series Data Structure in pandas***\n",
    "\n",
    ". Apandas Series is like a column in a table.\n",
    "\n",
    ". It is a one-dimensional array holding data of any type"
   ]
  },
  {
   "cell_type": "code",
   "execution_count": 19,
   "metadata": {},
   "outputs": [
    {
     "name": "stdout",
     "output_type": "stream",
     "text": [
      "[1, 7, 2]\n",
      "x    1\n",
      "y    7\n",
      "z    2\n",
      "dtype: int64\n"
     ]
    }
   ],
   "source": [
    "a = [1,7,2]\n",
    "myVar = pd.Series(a,index = ['x','y','z'])\n",
    "print(a)\n",
    "print(myVar)\n",
    "\n"
   ]
  },
  {
   "cell_type": "code",
   "execution_count": 21,
   "metadata": {},
   "outputs": [
    {
     "name": "stdout",
     "output_type": "stream",
     "text": [
      "day1    420\n",
      "day2    380\n",
      "day3    390\n",
      "dtype: int64\n",
      "380\n",
      "380\n"
     ]
    }
   ],
   "source": [
    "colories={\"day1\":420,\"day2\":380,\"day3\":390}\n",
    "myVar = pd.Series(colories)\n",
    "print(myVar)\n",
    "print(colories['day2'])\n",
    "print(myVar['day2'])"
   ]
  },
  {
   "cell_type": "code",
   "execution_count": 25,
   "metadata": {},
   "outputs": [
    {
     "name": "stdout",
     "output_type": "stream",
     "text": [
      "day1    420\n",
      "day2    380\n",
      "dtype: int64\n"
     ]
    }
   ],
   "source": [
    "myVar = pd.Series(colories,index = [\"day1\",\"day2\"])\n",
    "print(myVar)"
   ]
  },
  {
   "cell_type": "markdown",
   "metadata": {},
   "source": [
    "01. create a pandas seriees from the folloing list of values;"
   ]
  },
  {
   "cell_type": "code",
   "execution_count": 41,
   "metadata": {},
   "outputs": [
    {
     "name": "stdout",
     "output_type": "stream",
     "text": [
      "jan    25\n",
      "feb    30\n",
      "mar    35\n",
      "apr    40\n",
      "may    45\n",
      "jun    50\n",
      "jul    55\n",
      "aug    60\n",
      "sep    65\n",
      "oct    70\n",
      "dtype: int64\n"
     ]
    }
   ],
   "source": [
    "values = [x for x in range(25,75,5)]\n",
    "months = ['jan','feb','mar','apr','may','jun','jul','aug','sep','oct']\n",
    "myVar = pd.Series(values, index = months)\n",
    "print(myVar)\n"
   ]
  },
  {
   "cell_type": "markdown",
   "metadata": {},
   "source": [
    "print value of mar"
   ]
  },
  {
   "cell_type": "code",
   "execution_count": 32,
   "metadata": {},
   "outputs": [
    {
     "name": "stdout",
     "output_type": "stream",
     "text": [
      "35\n"
     ]
    }
   ],
   "source": [
    "# 1.2\n",
    "print(myVar['mar'])"
   ]
  },
  {
   "cell_type": "markdown",
   "metadata": {},
   "source": [
    "find 10% of all the value"
   ]
  },
  {
   "cell_type": "code",
   "execution_count": 35,
   "metadata": {},
   "outputs": [
    {
     "name": "stdout",
     "output_type": "stream",
     "text": [
      "jan    2.75\n",
      "feb    3.30\n",
      "mar    3.85\n",
      "apr    4.40\n",
      "may    4.95\n",
      "jun    5.50\n",
      "jul    6.05\n",
      "aug    6.60\n",
      "sep    7.15\n",
      "oct    7.70\n",
      "dtype: float64\n"
     ]
    }
   ],
   "source": [
    "new_val = myVar *0.1\n",
    "print(new_val)\n",
    "    "
   ]
  },
  {
   "cell_type": "markdown",
   "metadata": {},
   "source": [
    "get data grater then 50"
   ]
  },
  {
   "cell_type": "code",
   "execution_count": 45,
   "metadata": {},
   "outputs": [
    {
     "name": "stdout",
     "output_type": "stream",
     "text": [
      "jul    55\n",
      "aug    60\n",
      "sep    65\n",
      "oct    70\n",
      "dtype: int64\n"
     ]
    }
   ],
   "source": [
    "data3 = myVar[myVar>50]\n",
    "print(data3)"
   ]
  },
  {
   "cell_type": "markdown",
   "metadata": {},
   "source": [
    "get key who's value is higest"
   ]
  },
  {
   "cell_type": "code",
   "execution_count": 46,
   "metadata": {},
   "outputs": [
    {
     "name": "stdout",
     "output_type": "stream",
     "text": [
      "oct\n"
     ]
    }
   ],
   "source": [
    "indexMax = myVar.idxmax()\n",
    "print(indexMax)"
   ]
  },
  {
   "cell_type": "markdown",
   "metadata": {},
   "source": [
    "display get data wich is divisual by 5"
   ]
  },
  {
   "cell_type": "code",
   "execution_count": 48,
   "metadata": {},
   "outputs": [
    {
     "name": "stdout",
     "output_type": "stream",
     "text": [
      "jan    25\n",
      "feb    30\n",
      "mar    35\n",
      "apr    40\n",
      "may    45\n",
      "jun    50\n",
      "jul    55\n",
      "aug    60\n",
      "sep    65\n",
      "oct    70\n",
      "dtype: int64\n"
     ]
    }
   ],
   "source": [
    "data4= myVar[myVar%5 ==0]\n",
    "print(data4)"
   ]
  },
  {
   "cell_type": "markdown",
   "metadata": {},
   "source": [
    "get element wich are divisual by 60"
   ]
  },
  {
   "cell_type": "code",
   "execution_count": 53,
   "metadata": {},
   "outputs": [
    {
     "name": "stdout",
     "output_type": "stream",
     "text": [
      "aug    60\n",
      "dtype: int64\n"
     ]
    }
   ],
   "source": [
    "data5= myVar[myVar %60 ==0]\n",
    "print(data5)"
   ]
  },
  {
   "cell_type": "markdown",
   "metadata": {},
   "source": [
    "replace valuse grater then 50 to 60"
   ]
  },
  {
   "cell_type": "code",
   "execution_count": null,
   "metadata": {},
   "outputs": [
    {
     "name": "stdout",
     "output_type": "stream",
     "text": [
      "jan    25\n",
      "feb    30\n",
      "mar    35\n",
      "apr    40\n",
      "may    45\n",
      "jun    50\n",
      "jul    60\n",
      "aug    60\n",
      "sep    60\n",
      "oct    60\n",
      "dtype: int64\n"
     ]
    }
   ],
   "source": [
    "data6 = myVar.where(myVar<=50,60)\n",
    "print(data6)"
   ]
  },
  {
   "cell_type": "markdown",
   "metadata": {},
   "source": [
    "find cumulative sum"
   ]
  },
  {
   "cell_type": "code",
   "execution_count": 57,
   "metadata": {},
   "outputs": [
    {
     "name": "stdout",
     "output_type": "stream",
     "text": [
      "jan     25\n",
      "feb     55\n",
      "mar     90\n",
      "apr    130\n",
      "may    175\n",
      "jun    225\n",
      "jul    280\n",
      "aug    340\n",
      "sep    405\n",
      "oct    475\n",
      "dtype: int64\n"
     ]
    }
   ],
   "source": [
    "data7 = myVar.cumsum()\n",
    "print(data7)"
   ]
  }
 ],
 "metadata": {
  "kernelspec": {
   "display_name": "Python 3",
   "language": "python",
   "name": "python3"
  },
  "language_info": {
   "codemirror_mode": {
    "name": "ipython",
    "version": 3
   },
   "file_extension": ".py",
   "mimetype": "text/x-python",
   "name": "python",
   "nbconvert_exporter": "python",
   "pygments_lexer": "ipython3",
   "version": "3.12.3"
  }
 },
 "nbformat": 4,
 "nbformat_minor": 2
}
