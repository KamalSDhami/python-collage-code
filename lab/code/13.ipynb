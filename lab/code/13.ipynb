{
 "cells": [
  {
   "cell_type": "code",
   "execution_count": 10,
   "metadata": {},
   "outputs": [
    {
     "name": "stdout",
     "output_type": "stream",
     "text": [
      "D:\\coding\\Code\\python\\lab\\csv\n"
     ]
    }
   ],
   "source": [
    "import os\n",
    "current_path = os.getcwd()\n",
    "os.chdir(r\"D:\\coding\\Code\\python\\lab\\csv\")\n",
    "print(os.getcwd())"
   ]
  },
  {
   "cell_type": "code",
   "execution_count": 11,
   "metadata": {},
   "outputs": [
    {
     "name": "stdout",
     "output_type": "stream",
     "text": [
      "Logistic Regression Equation: log(p/(1-p)) = 0.96 * Hours_Studied + -1.54\n",
      "Predicted Values for the test data: [1 1]\n",
      "Accuracy on Test Data: 50.00%\n",
      "Confusion Matrix:\n",
      "[[0 1]\n",
      " [0 1]]\n"
     ]
    }
   ],
   "source": [
    "import pandas as pd\n",
    "import numpy as np\n",
    "from sklearn.model_selection import train_test_split\n",
    "from sklearn.linear_model import LogisticRegression\n",
    "from sklearn.metrics import accuracy_score, confusion_matrix\n",
    " \n",
    "df = pd.read_csv('StudentData.csv')\n",
    " \n",
    "X = df[['Hours_Studied']]\n",
    "y = np.where(df['Exam_Score'] >= 60, 1, 0)\n",
    " \n",
    "X_train, X_test, y_train, y_test = train_test_split(X, y, test_size=0.2, random_state=42)\n",
    " \n",
    "model = LogisticRegression()\n",
    "model.fit(X_train, y_train)\n",
    " \n",
    "coefficients = model.coef_[0]\n",
    "intercept = model.intercept_\n",
    "print(f\"Logistic Regression Equation: log(p/(1-p)) = {coefficients[0]:.2f} * Hours_Studied + {intercept[0]:.2f}\")\n",
    " \n",
    "y_test_pred = model.predict(X_test)\n",
    " \n",
    "accuracy = accuracy_score(y_test, y_test_pred)\n",
    "cm = confusion_matrix(y_test, y_test_pred)\n",
    " \n",
    "print(f\"Predicted Values for the test data: {y_test_pred}\")\n",
    "print(f\"Accuracy on Test Data: {accuracy * 100:.2f}%\")\n",
    "print(f\"Confusion Matrix:\\n{cm}\")"
   ]
  }
 ],
 "metadata": {
  "kernelspec": {
   "display_name": "Python 3",
   "language": "python",
   "name": "python3"
  },
  "language_info": {
   "codemirror_mode": {
    "name": "ipython",
    "version": 3
   },
   "file_extension": ".py",
   "mimetype": "text/x-python",
   "name": "python",
   "nbconvert_exporter": "python",
   "pygments_lexer": "ipython3",
   "version": "3.12.3"
  }
 },
 "nbformat": 4,
 "nbformat_minor": 2
}
