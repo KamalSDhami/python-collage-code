{
 "cells": [
  {
   "cell_type": "code",
   "execution_count": 2,
   "metadata": {},
   "outputs": [
    {
     "name": "stdout",
     "output_type": "stream",
     "text": [
      "[[2 3]\n",
      " [4 5]]\n",
      "\n",
      "5 (a)\n",
      "-----\n",
      "[2 3 4 5]\n"
     ]
    }
   ],
   "source": [
    "# 5a. flatten a matrix in python using numpy\n",
    "import numpy as np \n",
    "\n",
    "x = np.array ([[2,3],[4,5]])\n",
    "print(x)\n",
    "print()\n",
    "\n",
    "#using array.flatten()mathod [1d array ]\n",
    "y = x.flatten()#1D = flatten the array \n",
    "print(\"5 (a)\\n-----\")\n",
    "print(y)\n"
   ]
  },
  {
   "cell_type": "code",
   "execution_count": 8,
   "metadata": {},
   "outputs": [
    {
     "name": "stdout",
     "output_type": "stream",
     "text": [
      "[[1 2]\n",
      " [3 4]]\n",
      "\n",
      "output of 5(b)\n",
      "--------------\n",
      "[[1 3]\n",
      " [2 4]]\n",
      "[[1 3]\n",
      " [2 4]]\n"
     ]
    }
   ],
   "source": [
    "# 5 b transpose the array\n",
    "arr = np.array ([[1,2],[3,4]])\n",
    "print(arr)\n",
    "print()\n",
    "\n",
    "out1 = arr.transpose()\n",
    "out2 = arr.T\n",
    "\n",
    "print(\"output of 5(b)\")\n",
    "print(\"--------------\")\n",
    "print(out1)\n",
    "print(out2)\n"
   ]
  },
  {
   "cell_type": "code",
   "execution_count": 11,
   "metadata": {},
   "outputs": [
    {
     "name": "stdout",
     "output_type": "stream",
     "text": [
      "[1 2 3 4 5 1 2 1 1 1]\n",
      "most frequent value in the abouve array : \n",
      "\n",
      "\n",
      "Output of 5c\n",
      "------------\n",
      "[0 5 2 1 1 1]\n",
      "5\n",
      "1\n"
     ]
    }
   ],
   "source": [
    "# 5c find the most ferequent value in a numpy array \n",
    "x = np.array ([1,2,3,4,5,1,2,1,1,1])\n",
    "\n",
    "print(x)\n",
    "\n",
    "print(\"most frequent value in the abouve array : \")\n",
    "print(\"\\n\")\n",
    "\n",
    "print(\"Output of 5c\")\n",
    "print(\"------------\")\n",
    "\n",
    "print(np.bincount(x)) #count the occurance of the code\n",
    "print(np.bincount(x).max())\n",
    "print(np.bincount(x).argmax())\n"
   ]
  },
  {
   "cell_type": "code",
   "execution_count": 13,
   "metadata": {},
   "outputs": [
    {
     "name": "stdout",
     "output_type": "stream",
     "text": [
      "1\n"
     ]
    }
   ],
   "source": [
    "# 5d find the number of occurrence of a sequence in a array \n",
    "\n",
    "arr = np.array ([[2,8,9,4],\n",
    "                 [8,4,9,4],\n",
    "                 [4,5,9,7],\n",
    "                 [2,9,4,3]]) #4,4\n",
    "\n",
    "#countint sequence \n",
    "output = repr(arr).count(\"4, 5, 9, 7\") #find surtain sequencen in the array \n",
    "#view output\n",
    "print(output )  "
   ]
  },
  {
   "cell_type": "code",
   "execution_count": 33,
   "metadata": {},
   "outputs": [
    {
     "name": "stdout",
     "output_type": "stream",
     "text": [
      "[1 2 3 4 5]\n",
      "[1 2 3]\n"
     ]
    }
   ],
   "source": [
    "# array slicing\n",
    "arr = np.array ([[1,2,3,4,5],[6,7,8,9,10]])\n",
    "print(arr[0][:])\n",
    "print(arr[0][:3])"
   ]
  }
 ],
 "metadata": {
  "kernelspec": {
   "display_name": "base",
   "language": "python",
   "name": "python3"
  },
  "language_info": {
   "codemirror_mode": {
    "name": "ipython",
    "version": 3
   },
   "file_extension": ".py",
   "mimetype": "text/x-python",
   "name": "python",
   "nbconvert_exporter": "python",
   "pygments_lexer": "ipython3",
   "version": "3.12.4"
  }
 },
 "nbformat": 4,
 "nbformat_minor": 2
}
