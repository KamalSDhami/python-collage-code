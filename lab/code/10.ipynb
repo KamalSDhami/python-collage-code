{
 "cells": [
  {
   "cell_type": "markdown",
   "metadata": {},
   "source": [
    "Create a Pandas Series from the following list of values:\n",
    "values = [25, 30, 35, 40, 45, 50, 55, 60, 65, 70]\n",
    "Then, perform the following tasks:\n",
    "\n",
    "* Convert the list into a Pandas Series and assign custom labels (index) to represent the months of the year (e.g., 'Jan', 'Feb', 'Mar', etc.).\n",
    "* Retrieve the value for the month of 'Mar'.\n",
    "* Increase all values by 10%.\n",
    "* Filter out values greater than 50.\n",
    "* Find the index (month) corresponding to the maximum value in the Series.\n",
    "* Check if any values are divisible by 5.\n",
    "* Replace all values that are greater than 60 with the value 60.\n",
    "* Perform an operation to create a new Series that shows the cumulative sum (running total) of the values."
   ]
  },
  {
   "cell_type": "code",
   "execution_count": 2,
   "metadata": {},
   "outputs": [],
   "source": [
    "import pandas as pd \n",
    "my_list = pd.Series([25, 30, 35, 40, 45, 50, 55, 60, 65, 70])"
   ]
  },
  {
   "cell_type": "code",
   "execution_count": 3,
   "metadata": {},
   "outputs": [
    {
     "name": "stdout",
     "output_type": "stream",
     "text": [
      "jan     25\n",
      "fab     30\n",
      "mar     35\n",
      "apr     40\n",
      "may     45\n",
      "jun     50\n",
      "july    55\n",
      "aug     60\n",
      "sep     65\n",
      "oct     70\n",
      "dtype: int64\n"
     ]
    }
   ],
   "source": [
    "my_list.index = ['jan','fab','mar','apr','may','jun','july','aug','sep','oct']\n",
    "print(my_list)"
   ]
  },
  {
   "cell_type": "code",
   "execution_count": 4,
   "metadata": {},
   "outputs": [
    {
     "name": "stdout",
     "output_type": "stream",
     "text": [
      "35\n"
     ]
    }
   ],
   "source": [
    "print(my_list['mar'])"
   ]
  },
  {
   "cell_type": "code",
   "execution_count": null,
   "metadata": {},
   "outputs": [
    {
     "data": {
      "text/plain": [
       "jan     27.5\n",
       "fab     33.0\n",
       "mar     38.5\n",
       "apr     44.0\n",
       "may     49.5\n",
       "jun     55.0\n",
       "july    60.5\n",
       "aug     66.0\n",
       "sep     71.5\n",
       "oct     77.0\n",
       "dtype: float64"
      ]
     },
     "execution_count": 5,
     "metadata": {},
     "output_type": "execute_result"
    }
   ],
   "source": [
    "my_list =my_list +(my_list *0.1)\n",
    "my_list"
   ]
  },
  {
   "cell_type": "code",
   "execution_count": 7,
   "metadata": {},
   "outputs": [
    {
     "name": "stdout",
     "output_type": "stream",
     "text": [
      "jun     55.0\n",
      "july    60.5\n",
      "aug     66.0\n",
      "sep     71.5\n",
      "oct     77.0\n",
      "dtype: float64\n"
     ]
    }
   ],
   "source": [
    "print(my_list[my_list>50])"
   ]
  },
  {
   "cell_type": "code",
   "execution_count": 8,
   "metadata": {},
   "outputs": [
    {
     "name": "stdout",
     "output_type": "stream",
     "text": [
      "oct\n"
     ]
    }
   ],
   "source": [
    "# Find the index (month) corresponding to the maximum value in the Series.\n",
    "print(my_list.idxmax())"
   ]
  },
  {
   "cell_type": "code",
   "execution_count": 9,
   "metadata": {},
   "outputs": [
    {
     "name": "stdout",
     "output_type": "stream",
     "text": [
      "jan     False\n",
      "fab     False\n",
      "mar     False\n",
      "apr     False\n",
      "may     False\n",
      "jun      True\n",
      "july    False\n",
      "aug     False\n",
      "sep     False\n",
      "oct     False\n",
      "dtype: bool\n"
     ]
    }
   ],
   "source": [
    "print(my_list %5 ==0)"
   ]
  },
  {
   "cell_type": "code",
   "execution_count": 10,
   "metadata": {},
   "outputs": [
    {
     "name": "stdout",
     "output_type": "stream",
     "text": [
      "jan     27.5\n",
      "fab     33.0\n",
      "mar     38.5\n",
      "apr     44.0\n",
      "may     49.5\n",
      "jun     55.0\n",
      "july    60.0\n",
      "aug     60.0\n",
      "sep     60.0\n",
      "oct     60.0\n",
      "dtype: float64\n"
     ]
    }
   ],
   "source": [
    "my_list[my_list >60] = 60\n",
    "print(my_list)"
   ]
  },
  {
   "cell_type": "code",
   "execution_count": 11,
   "metadata": {},
   "outputs": [
    {
     "name": "stdout",
     "output_type": "stream",
     "text": [
      "jan      27.5\n",
      "fab      60.5\n",
      "mar      99.0\n",
      "apr     143.0\n",
      "may     192.5\n",
      "jun     247.5\n",
      "july    307.5\n",
      "aug     367.5\n",
      "sep     427.5\n",
      "oct     487.5\n",
      "dtype: float64\n"
     ]
    }
   ],
   "source": [
    "# Perform an operation to create a new Series that shows the cumulative sum (running total) of the values.\n",
    "\n",
    "print(my_list.cumsum())"
   ]
  }
 ],
 "metadata": {
  "kernelspec": {
   "display_name": "Python 3",
   "language": "python",
   "name": "python3"
  },
  "language_info": {
   "codemirror_mode": {
    "name": "ipython",
    "version": 3
   },
   "file_extension": ".py",
   "mimetype": "text/x-python",
   "name": "python",
   "nbconvert_exporter": "python",
   "pygments_lexer": "ipython3",
   "version": "3.12.3"
  }
 },
 "nbformat": 4,
 "nbformat_minor": 2
}
