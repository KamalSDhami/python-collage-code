{
 "cells": [
  {
   "cell_type": "code",
   "execution_count": 5,
   "metadata": {},
   "outputs": [],
   "source": [
    "import os \n",
    "current_path = os.getcwd()\n",
    "csv_path = os.path.join(os.path.dirname(current_path),'csv')\n",
    "os.chdir(csv_path)"
   ]
  },
  {
   "cell_type": "code",
   "execution_count": 6,
   "metadata": {},
   "outputs": [
    {
     "name": "stdout",
     "output_type": "stream",
     "text": [
      "Slope (m): 5.387931034482759\n",
      "Intercept (b): 47.241379310344826\n",
      "Equation of the regression line: Exam_Score = 5.39 * Hours_Studied + 47.24\n",
      "Mean Squared Error (MSE) on Test Data: 4.82\n",
      "Predicted exam score for 6 hours studied: 79.57\n"
     ]
    }
   ],
   "source": [
    "import pandas as pd\n",
    "from sklearn.model_selection import train_test_split\n",
    "from sklearn.linear_model import LinearRegression\n",
    "from sklearn.metrics import mean_squared_error\n",
    " \n",
    "df = pd.read_csv('StudentData.csv')\n",
    " \n",
    "X = df[['Hours_Studied']]\n",
    "y = df['Exam_Score']\n",
    " \n",
    "X_train, X_test, y_train, y_test = train_test_split(X, y, test_size=0.2, random_state=42)\n",
    " \n",
    "model = LinearRegression()\n",
    "model.fit(X_train, y_train)\n",
    " \n",
    "slope = model.coef_[0]\n",
    "intercept = model.intercept_\n",
    " \n",
    "print(f\"Slope (m): {slope}\")\n",
    "print(f\"Intercept (b): {intercept}\")\n",
    "print(f\"Equation of the regression line: Exam_Score = {slope:.2f} * Hours_Studied + {intercept:.2f}\")\n",
    " \n",
    "y_test_pred = model.predict(X_test)\n",
    " \n",
    "mse = mean_squared_error(y_test, y_test_pred)\n",
    "print(f\"Mean Squared Error (MSE) on Test Data: {mse:.2f}\")\n",
    " \n",
    "new_data = pd.DataFrame({'Hours_Studied': [6]})\n",
    "predicted_score = model.predict(new_data)[0]\n",
    "print(f\"Predicted exam score for 6 hours studied: {predicted_score:.2f}\")"
   ]
  }
 ],
 "metadata": {
  "kernelspec": {
   "display_name": "Python 3",
   "language": "python",
   "name": "python3"
  },
  "language_info": {
   "codemirror_mode": {
    "name": "ipython",
    "version": 3
   },
   "file_extension": ".py",
   "mimetype": "text/x-python",
   "name": "python",
   "nbconvert_exporter": "python",
   "pygments_lexer": "ipython3",
   "version": "3.12.3"
  }
 },
 "nbformat": 4,
 "nbformat_minor": 2
}
