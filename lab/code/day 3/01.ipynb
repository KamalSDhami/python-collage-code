{
 "cells": [
  {
   "cell_type": "markdown",
   "id": "db264638-aa08-4875-a85d-661b81135069",
   "metadata": {},
   "source": [
    "#kamal"
   ]
  },
  {
   "cell_type": "code",
   "execution_count": null,
   "id": "e459de3f-5523-4954-a2d9-9ec558761d12",
   "metadata": {},
   "outputs": [],
   "source": []
  }
 ],
 "metadata": {
  "kernelspec": {
   "display_name": "Python 3 (ipykernel)",
   "language": "python",
   "name": "python3"
  },
  "language_info": {
   "codemirror_mode": {
    "name": "ipython",
    "version": 3
   },
   "file_extension": ".py",
   "mimetype": "text/x-python",
   "name": "python",
   "nbconvert_exporter": "python",
   "pygments_lexer": "ipython3",
   "version": "3.12.4"
  }
 },
 "nbformat": 4,
 "nbformat_minor": 5
}
