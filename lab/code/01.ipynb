{
 "cells": [
  {
   "cell_type": "code",
   "execution_count": null,
   "metadata": {},
   "outputs": [
    {
     "name": "stdout",
     "output_type": "stream",
     "text": [
      "Some other error\n",
      "This will always execute\n"
     ]
    }
   ],
   "source": [
    "def fibonacci_sequence(n):\n",
    "    if n <= 0:\n",
    "        return []\n",
    "    elif n == 1:\n",
    "        return [0]\n",
    "    else:\n",
    "        list_fib = [0, 1]\n",
    "        while list_fib[-1] + list_fib[-2] < n:\n",
    "            next_fib = list_fib[-1] + list_fib[-2]\n",
    "            list_fib.append(next_fib)\n",
    "        return list_fib   \n",
    "n = int(input(\"Enter the number : \"))\n",
    "print (fibonacci_sequence(n))"
   ]
  },
  {
   "cell_type": "code",
   "execution_count": null,
   "metadata": {},
   "outputs": [],
   "source": [
    "txt = input(\"Enter the text : \")\n",
    "if txt == txt[::-1]:\n",
    "    print(\"yes it is palindrome\")\n",
    "else:\n",
    "    print(\"no it is not palindrome\")"
   ]
  },
  {
   "cell_type": "code",
   "execution_count": null,
   "metadata": {},
   "outputs": [],
   "source": [
    "def factorial(n):\n",
    "    if n == 0:\n",
    "        return 1\n",
    "    else:\n",
    "        return n * factorial(n - 1)\n",
    "\n",
    "n = int(input(\"Enter the number : \"))\n",
    "print (\"Factorial is : \",factorial(n))"
   ]
  },
  {
   "cell_type": "code",
   "execution_count": 1,
   "metadata": {},
   "outputs": [
    {
     "name": "stdout",
     "output_type": "stream",
     "text": [
      "55\n"
     ]
    }
   ],
   "source": [
    "arr =[1,2,3,4,5,6,7,8,9,10]\n",
    "sum =0\n",
    "for i in arr:\n",
    "  sum += i\n",
    "print(sum)"
   ]
  },
  {
   "cell_type": "code",
   "execution_count": null,
   "metadata": {},
   "outputs": [
    {
     "name": "stdout",
     "output_type": "stream",
     "text": [
      "[1, 2, 3, 4, 5, 6, 7, 8, 9, 10]\n"
     ]
    }
   ],
   "source": [
    "arr =[1,2,3,4,5,6,7,8,9,10]\n",
    "k = int(input(\"Enter the rotation : \"))\n",
    "k%=len(arr)\n",
    "for i in range(k):\n",
    "  arr.insert(0,arr.pop())\n",
    "print(arr)"
   ]
  },
  {
   "cell_type": "code",
   "execution_count": null,
   "metadata": {},
   "outputs": [],
   "source": [
    "arr=[1,2,2,26,5,4,4,4,6,6,82,2,1,2,2]\n",
    "k = int(input(\"Enter the number : \"))\n",
    "count = 0\n",
    "for num in arr:\n",
    "  if num == k:\n",
    "    count = count + 1\n",
    "print(count)"
   ]
  }
 ],
 "metadata": {
  "kernelspec": {
   "display_name": "Python 3",
   "language": "python",
   "name": "python3"
  },
  "language_info": {
   "codemirror_mode": {
    "name": "ipython",
    "version": 3
   },
   "file_extension": ".py",
   "mimetype": "text/x-python",
   "name": "python",
   "nbconvert_exporter": "python",
   "pygments_lexer": "ipython3",
   "version": "3.12.3"
  }
 },
 "nbformat": 4,
 "nbformat_minor": 2
}
