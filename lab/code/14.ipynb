{
 "cells": [
  {
   "cell_type": "code",
   "execution_count": 1,
   "metadata": {},
   "outputs": [
    {
     "name": "stdout",
     "output_type": "stream",
     "text": [
      "Accuracy: 100.00%\n"
     ]
    }
   ],
   "source": [
    "import pandas as pd\n",
    "from sklearn.model_selection import train_test_split\n",
    "from sklearn.tree import DecisionTreeClassifier\n",
    "from sklearn import metrics\n",
    " \n",
    "data = {\n",
    "    'Salary Range': ['High', 'Medium', 'High', 'Low', 'Medium', 'High', 'Low', 'Low', 'Medium', 'High'],\n",
    "    'Office Near Home': ['Yes', 'No', 'Yes', 'Yes', 'No', 'Yes', 'No', 'Yes', 'No', 'No'],\n",
    "    'Cab Provided': ['No', 'Yes', 'Yes', 'No', 'No', 'Yes', 'Yes', 'No', 'No', 'Yes'],\n",
    "    'Offer Accepted': ['Yes', 'No', 'Yes', 'No', 'No', 'Yes', 'No', 'No', 'No', 'Yes']\n",
    "}\n",
    " \n",
    "df = pd.DataFrame(data)\n",
    " \n",
    "df['Salary Range'] = df['Salary Range'].map({'Low': 0, 'Medium': 1, 'High': 2})\n",
    "df['Office Near Home'] = df['Office Near Home'].map({'No': 0, 'Yes': 1})\n",
    "df['Cab Provided'] = df['Cab Provided'].map({'No': 0, 'Yes': 1})\n",
    "df['Offer Accepted'] = df['Offer Accepted'].map({'No': 0, 'Yes': 1})\n",
    " \n",
    "X = df[['Salary Range', 'Office Near Home', 'Cab Provided']]\n",
    "y = df['Offer Accepted']\n",
    " \n",
    "X_train, X_test, y_train, y_test = train_test_split(X, y, test_size=0.3, random_state=42)\n",
    " \n",
    "model = DecisionTreeClassifier(criterion='entropy', random_state=42)\n",
    "model.fit(X_train, y_train)\n",
    " \n",
    "y_pred = model.predict(X_test)\n",
    " \n",
    "accuracy = metrics.accuracy_score(y_test, y_pred)\n",
    "print(f\"Accuracy: {accuracy * 100:.2f}%\")"
   ]
  }
 ],
 "metadata": {
  "kernelspec": {
   "display_name": "Python 3",
   "language": "python",
   "name": "python3"
  },
  "language_info": {
   "codemirror_mode": {
    "name": "ipython",
    "version": 3
   },
   "file_extension": ".py",
   "mimetype": "text/x-python",
   "name": "python",
   "nbconvert_exporter": "python",
   "pygments_lexer": "ipython3",
   "version": "3.12.3"
  }
 },
 "nbformat": 4,
 "nbformat_minor": 2
}
