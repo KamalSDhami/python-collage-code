{
 "cells": [
  {
   "cell_type": "markdown",
   "metadata": {},
   "source": [
    "array in python"
   ]
  },
  {
   "cell_type": "code",
   "execution_count": 3,
   "metadata": {},
   "outputs": [
    {
     "name": "stdout",
     "output_type": "stream",
     "text": [
      "[1, 2, 3, 4, 5, 6, 7]\n",
      "<class 'list'>\n"
     ]
    }
   ],
   "source": [
    "arr = [1,2,3,4,5,6,7]\n",
    "print(arr)\n",
    "print(type(arr))"
   ]
  },
  {
   "cell_type": "code",
   "execution_count": 6,
   "metadata": {},
   "outputs": [
    {
     "name": "stdout",
     "output_type": "stream",
     "text": [
      "[1, 'c', 2, 2.3]\n"
     ]
    }
   ],
   "source": [
    "#list is hitrogenious\n",
    "arr =[1,'c',2,2.3]\n",
    "print(arr)"
   ]
  },
  {
   "cell_type": "markdown",
   "metadata": {},
   "source": [
    "#why do we need numpy array \n",
    "\"\"\"\n",
    "1) list is slow.\n",
    "2) list is not continous .\n",
    "3) list can store hatrogenious element.\n",
    "\"\"\""
   ]
  },
  {
   "cell_type": "code",
   "execution_count": 10,
   "metadata": {},
   "outputs": [
    {
     "name": "stdout",
     "output_type": "stream",
     "text": [
      "1.26.4\n"
     ]
    }
   ],
   "source": [
    "import numpy as np\n",
    "\n",
    "print(np.__version__)"
   ]
  },
  {
   "cell_type": "code",
   "execution_count": 15,
   "metadata": {},
   "outputs": [
    {
     "name": "stdout",
     "output_type": "stream",
     "text": [
      "[1 2 3 4]\n",
      "<class 'numpy.ndarray'>\n"
     ]
    }
   ],
   "source": [
    "x = np.array([1,2,3,4])\n",
    "print(x)\n",
    "print(type(x))"
   ]
  },
  {
   "cell_type": "code",
   "execution_count": 18,
   "metadata": {},
   "outputs": [
    {
     "name": "stdout",
     "output_type": "stream",
     "text": [
      "<class 'numpy.ndarray'>\n"
     ]
    }
   ],
   "source": [
    "y = np.array((1,2,3,4,5,))\n",
    "y = np.array([[1,2],[3,4]])\n",
    "print(type(y))"
   ]
  },
  {
   "cell_type": "code",
   "execution_count": 21,
   "metadata": {},
   "outputs": [
    {
     "name": "stdout",
     "output_type": "stream",
     "text": [
      "2\n"
     ]
    }
   ],
   "source": [
    "print(y.ndim) #print dimension "
   ]
  },
  {
   "cell_type": "code",
   "execution_count": 25,
   "metadata": {},
   "outputs": [
    {
     "name": "stdout",
     "output_type": "stream",
     "text": [
      "False\n",
      "True\n"
     ]
    }
   ],
   "source": [
    "# check if array have 0 or not if 0 return false , otherwise true\n",
    "x= [0,1,1,2,2,2,3,4] \n",
    "print(np.all(x))\n",
    "\n",
    "x= [1,1,2,2,2,3,4] \n",
    "print(np.all(x))"
   ]
  },
  {
   "cell_type": "code",
   "execution_count": 27,
   "metadata": {},
   "outputs": [],
   "source": [
    "a=10\n",
    "a =10.2\n",
    "a =\"hello\""
   ]
  },
  {
   "cell_type": "code",
   "execution_count": 30,
   "metadata": {},
   "outputs": [
    {
     "name": "stdout",
     "output_type": "stream",
     "text": [
      "[0. 1. 2. 3.]\n"
     ]
    }
   ],
   "source": [
    "#create numpy array of float type\n",
    "x = np.array([0,1,2,3],dtype ='f')\n",
    "print(x)"
   ]
  },
  {
   "cell_type": "code",
   "execution_count": 33,
   "metadata": {},
   "outputs": [
    {
     "name": "stdout",
     "output_type": "stream",
     "text": [
      "[ True False]\n",
      "[ True  True]\n",
      "[False False]\n",
      "[False  True]\n"
     ]
    }
   ],
   "source": [
    "#compare two np array\n",
    "x = np.array([3,5])\n",
    "y = np.array([2,5])\n",
    "\n",
    "print(np.greater(x,y))\n",
    "\n",
    "print(np.greater_equal(x,y))\n",
    "\n",
    "print(np.less(x,y))\n",
    "\n",
    "print(np.less_equal(x,y))"
   ]
  },
  {
   "cell_type": "code",
   "execution_count": 40,
   "metadata": {},
   "outputs": [
    {
     "name": "stdout",
     "output_type": "stream",
     "text": [
      "8\n",
      "4\n",
      "(2, 2)\n",
      "[0 1]\n",
      "2\n",
      "<class 'numpy.ndarray'>\n",
      "<class 'numpy.ndarray'>\n",
      "byte:  32\n",
      "32 bytes\n"
     ]
    }
   ],
   "source": [
    "# Esize of the memory occupied by the array \n",
    "x = np.array([[0,1],[2,3]])\n",
    "print(x.itemsize)\n",
    "print(x.size)\n",
    "print(x.shape)\n",
    "print(x[0])#index access\n",
    "print(len(x)) #len (arrr)\n",
    "print(type(x[0]))# version numpy if int32 , int 4 bites\n",
    "print(type(x))\n",
    "print(\"byte: \",x.itemsize*x.size)\n",
    "print(\"%d bytes\" %(x.itemsize*x.size))"
   ]
  },
  {
   "cell_type": "code",
   "execution_count": 42,
   "metadata": {},
   "outputs": [
    {
     "name": "stdout",
     "output_type": "stream",
     "text": [
      "[30 31 32 33 34 35 36 37 38 39]\n"
     ]
    }
   ],
   "source": [
    "array = np.arange(30,40)# give range form 30 to 39\n",
    "print(array)\n"
   ]
  },
  {
   "cell_type": "code",
   "execution_count": 44,
   "metadata": {},
   "outputs": [
    {
     "name": "stdout",
     "output_type": "stream",
     "text": [
      "[30 32 34 36 38]\n"
     ]
    }
   ],
   "source": [
    "array = np.arange(30,40,2)# array form 30 to 39 by jumping by 2\n",
    "print(array)\n"
   ]
  },
  {
   "cell_type": "code",
   "execution_count": 48,
   "metadata": {},
   "outputs": [
    {
     "name": "stdout",
     "output_type": "stream",
     "text": [
      "[[ 1  2  3  4  5  6  7  8  9 10]\n",
      " [11 12 13 14 15 16 17 18 19 20]]\n"
     ]
    }
   ],
   "source": [
    "array = np.arange (1,21).reshape(2,10)\n",
    "print(array)"
   ]
  },
  {
   "cell_type": "code",
   "execution_count": 50,
   "metadata": {},
   "outputs": [
    {
     "name": "stdout",
     "output_type": "stream",
     "text": [
      "[[1. 0. 0.]\n",
      " [0. 1. 0.]\n",
      " [0. 0. 1.]]\n",
      "[[1. 0. 0.]\n",
      " [0. 1. 0.]\n",
      " [0. 0. 1.]]\n"
     ]
    }
   ],
   "source": [
    "# create a 2d  identity matrix\n",
    "array_2a = np.identity(3)\n",
    "array_2b = np.eye(3)\n",
    "\n",
    "print(array_2a)\n",
    "print(array_2b)"
   ]
  },
  {
   "cell_type": "code",
   "execution_count": 52,
   "metadata": {},
   "outputs": [
    {
     "name": "stdout",
     "output_type": "stream",
     "text": [
      "[[1. 1. 1. 1.]\n",
      " [1. 1. 1. 1.]]\n",
      "[[0. 0. 0. 0.]\n",
      " [0. 0. 0. 0.]]\n"
     ]
    }
   ],
   "source": [
    "#creteing a 10x10 matrix filled with ones and zeros\n",
    "x = np.ones((2,4))\n",
    "y = np.zeros((2,4))\n",
    "print(x)\n",
    "print(y)"
   ]
  },
  {
   "cell_type": "code",
   "execution_count": 56,
   "metadata": {},
   "outputs": [
    {
     "name": "stdout",
     "output_type": "stream",
     "text": [
      "[[5. 5. 5. 5.]\n",
      " [5. 5. 5. 5.]\n",
      " [5. 5. 5. 5.]]\n"
     ]
    }
   ],
   "source": [
    "# create the 3d matrix containg 5 by default \n",
    "z = np.full((3,4),5,dtype ='f')\n",
    "print(z)"
   ]
  },
  {
   "cell_type": "code",
   "execution_count": 58,
   "metadata": {},
   "outputs": [
    {
     "name": "stdout",
     "output_type": "stream",
     "text": [
      "[[0 1]\n",
      " [2 3]]\n",
      "sum of all elements : \n",
      "6\n",
      "sum of each column : \n",
      "[2 4]\n",
      "sum of each row: \n",
      "[1 5]\n"
     ]
    }
   ],
   "source": [
    "x = np.array ([[0,1],[2,3]])\n",
    "print(x)\n",
    "\n",
    "print(\"sum of all elements : \")\n",
    "print(np.sum(x))\n",
    "\n",
    "print(\"sum of each column : \")\n",
    "print(np.sum(x,axis =0))\n",
    "\n",
    "print(\"sum of each row: \")\n",
    "print(np.sum (x,axis =1))"
   ]
  },
  {
   "cell_type": "code",
   "execution_count": 60,
   "metadata": {},
   "outputs": [
    {
     "name": "stdout",
     "output_type": "stream",
     "text": [
      "[[3 2]\n",
      " [1 0]]\n",
      "[[1 0]\n",
      " [3 2]]\n",
      "[[2 3]\n",
      " [0 1]]\n"
     ]
    }
   ],
   "source": [
    "x = np.array([[3,2],[1,0]])\n",
    "print(x)\n",
    "\n",
    "print(np.sort(x,axis = 0))\n",
    "\n",
    "print(np.sort(x)) # befault axis =1\n"
   ]
  },
  {
   "cell_type": "code",
   "execution_count": null,
   "metadata": {},
   "outputs": [],
   "source": []
  }
 ],
 "metadata": {
  "kernelspec": {
   "display_name": "base",
   "language": "python",
   "name": "python3"
  },
  "language_info": {
   "codemirror_mode": {
    "name": "ipython",
    "version": 3
   },
   "file_extension": ".py",
   "mimetype": "text/x-python",
   "name": "python",
   "nbconvert_exporter": "python",
   "pygments_lexer": "ipython3",
   "version": "3.12.4"
  }
 },
 "nbformat": 4,
 "nbformat_minor": 2
}
