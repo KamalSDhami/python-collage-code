{
 "cells": [
  {
   "cell_type": "markdown",
   "metadata": {},
   "source": [
    "Write a python program in python wich can perform bfs and dfs based on user's input it should stop whne the element is found. print the path to that element from the start node !\n",
    "            1\n",
    "           / \\\n",
    "          2   3\n",
    "         / \\ / \\\n",
    "        4  5 6  7"
   ]
  },
  {
   "cell_type": "code",
   "execution_count": 3,
   "metadata": {},
   "outputs": [],
   "source": [
    "class TreeNode:\n",
    "    def __init__(self,value=0,left=None,right=None):\n",
    "        self.value = value\n",
    "        self.left = left\n",
    "        self.right= right\n",
    "root = TreeNode(1) #{root(1,None,None)}\n",
    "root.left = TreeNode(2) #{(1,{2(None,None)},None)}\n",
    "root.right = TreeNode(3)#{(1,{2(None,None)},{3(None,None)})}\n",
    "root.left.left = TreeNode(4)\n",
    "root.left.right = TreeNode(5)\n",
    "root.right.left = TreeNode(6)\n",
    "root.right.right = TreeNode(7)"
   ]
  },
  {
   "cell_type": "code",
   "execution_count": 4,
   "metadata": {},
   "outputs": [],
   "source": [
    "def bfs_search(root,x):\n",
    "    \n",
    "    if not root:\n",
    "        return[]\n",
    "\n",
    "    queue = [root] #list of objects\n",
    "    visitedNodes = []\n",
    "    \n",
    "    while queue:\n",
    "        node = queue.pop(0)\n",
    "        visitedNodes.append(node.value)\n",
    "        \n",
    "        if node.value ==x:\n",
    "            return visitedNodes\n",
    "        if node.left:\n",
    "            queue.append(node.left)\n",
    "        if node.right:\n",
    "            queue.append(node.right)\n",
    "    return visitedNodes"
   ]
  },
  {
   "cell_type": "code",
   "execution_count": 5,
   "metadata": {},
   "outputs": [],
   "source": [
    "def dfs_search(root,x):\n",
    "    \n",
    "    if not root:\n",
    "        return[]\n",
    "\n",
    "    stack = [root] #list of objects\n",
    "    visitedNodes = []\n",
    "    \n",
    "    while stack:\n",
    "        node = stack.pop()\n",
    "        visitedNodes.append(node.value)\n",
    "        if node.value ==x:\n",
    "            return visitedNodes\n",
    "        if node.right:\n",
    "            stack.append(node.right)\n",
    "        if node.left:\n",
    "            stack.append(node.left)\n",
    "    return visitedNodes"
   ]
  },
  {
   "cell_type": "code",
   "execution_count": 6,
   "metadata": {},
   "outputs": [
    {
     "name": "stdout",
     "output_type": "stream",
     "text": [
      "dfs\n",
      "<class 'str'>\n",
      "[1, 2, 4, 5]\n"
     ]
    }
   ],
   "source": [
    "s = input(\"Enter which One to perform BFS/DFS: \")\n",
    "print(s)\n",
    "print(type(s))\n",
    "x = int(input(\"Enter the value you want to search : \"))\n",
    "if (s.lower() == 'bfs'):\n",
    "    visitedNodes = bfs_search(root,x)\n",
    "    print(visitedNodes)\n",
    "elif(s.lower() =='dfs'):\n",
    "    visitedNodes = dfs_search(root,x)\n",
    "    print(visitedNodes)\n",
    "else:\n",
    "    print(\"Invalid input \")"
   ]
  }
 ],
 "metadata": {
  "kernelspec": {
   "display_name": "Python 3",
   "language": "python",
   "name": "python3"
  },
  "language_info": {
   "codemirror_mode": {
    "name": "ipython",
    "version": 3
   },
   "file_extension": ".py",
   "mimetype": "text/x-python",
   "name": "python",
   "nbconvert_exporter": "python",
   "pygments_lexer": "ipython3",
   "version": "3.12.3"
  }
 },
 "nbformat": 4,
 "nbformat_minor": 2
}
