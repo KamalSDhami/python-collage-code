{
 "cells": [
  {
   "cell_type": "markdown",
   "metadata": {},
   "source": [
    "Perform given operations using Pandas.DataFrame\n",
    "Task-01. Create a CSV file using the given content as Employee Data:\n",
    "Where\n",
    "employee_id: A unique identifier for each employee.\n",
    "name: The name of the employee.\n",
    "department: The department in which the employee works.\n",
    "salary: The annual salary of the employee (in USD).\n",
    "experience_years: The number of years of experience the employee has.\n",
    " \n",
    "Task-02. Reads the CSV file located at file_path into a DataFrame\n",
    " \n",
    "Task-03. Handles missing values as follows:\n",
    "If salary is missing, fill it with the median salary of employees.\n",
    "If experience_years is missing, fill it with the average experience of employees.\n",
    "Task-04. Save the DataFrame into the same directory."
   ]
  },
  {
   "cell_type": "code",
   "execution_count": 2,
   "metadata": {},
   "outputs": [
    {
     "name": "stdout",
     "output_type": "stream",
     "text": [
      "d:\\coding\\Code\\python\\lab\\csv\\week11.csv\n"
     ]
    }
   ],
   "source": [
    "import os \n",
    "path = os.getcwd()\n",
    "path = os.path.dirname(path)\n",
    "path=os.path.join(path,\"csv\",\"week11.csv\")\n",
    "print(path)"
   ]
  },
  {
   "cell_type": "code",
   "execution_count": 3,
   "metadata": {},
   "outputs": [
    {
     "name": "stdout",
     "output_type": "stream",
     "text": [
      "   employee_id       name department      salary  experience_year\n",
      "0            1      Alice      Sales     55000.0              5.0\n",
      "1            2        BOB         IT         NaN              7.0\n",
      "2            3    Charlie      Sales         NaN              NaN\n",
      "3            4      Diana         HR  12000010.0              NaN\n",
      "4            5        Eve    IT95000         NaN              NaN\n"
     ]
    }
   ],
   "source": [
    "import pandas as pd\n",
    "df = pd.read_csv(path)\n",
    "print(df)"
   ]
  },
  {
   "cell_type": "code",
   "execution_count": 4,
   "metadata": {},
   "outputs": [],
   "source": [
    "df['salary']= df['salary'].fillna(df['salary'].median())"
   ]
  },
  {
   "cell_type": "code",
   "execution_count": 5,
   "metadata": {},
   "outputs": [
    {
     "data": {
      "text/plain": [
       "np.int64(0)"
      ]
     },
     "execution_count": 5,
     "metadata": {},
     "output_type": "execute_result"
    }
   ],
   "source": [
    "df['salary'].isnull().sum()"
   ]
  },
  {
   "cell_type": "code",
   "execution_count": 6,
   "metadata": {},
   "outputs": [],
   "source": [
    "df['experience_year']=df['experience_year'].fillna(df['experience_year'].mean())"
   ]
  },
  {
   "cell_type": "code",
   "execution_count": 7,
   "metadata": {},
   "outputs": [
    {
     "name": "stdout",
     "output_type": "stream",
     "text": [
      "   employee_id       name department      salary  experience_year\n",
      "0            1      Alice      Sales     55000.0              5.0\n",
      "1            2        BOB         IT   6027505.0              7.0\n",
      "2            3    Charlie      Sales   6027505.0              6.0\n",
      "3            4      Diana         HR  12000010.0              6.0\n",
      "4            5        Eve    IT95000   6027505.0              6.0\n"
     ]
    }
   ],
   "source": [
    "print(df)"
   ]
  },
  {
   "cell_type": "code",
   "execution_count": 8,
   "metadata": {},
   "outputs": [
    {
     "name": "stdout",
     "output_type": "stream",
     "text": [
      "2.8\n",
      "3.0\n",
      "0    4\n",
      "dtype: int64\n"
     ]
    }
   ],
   "source": [
    "x = pd.Series([1,2,3,4,4])\n",
    "print(x.mean())\n",
    "print(x.median())\n",
    "print(x.mode())"
   ]
  },
  {
   "cell_type": "code",
   "execution_count": 9,
   "metadata": {},
   "outputs": [],
   "source": [
    "df.to_csv('week11_new.csv', index=False)"
   ]
  }
 ],
 "metadata": {
  "kernelspec": {
   "display_name": "Python 3",
   "language": "python",
   "name": "python3"
  },
  "language_info": {
   "codemirror_mode": {
    "name": "ipython",
    "version": 3
   },
   "file_extension": ".py",
   "mimetype": "text/x-python",
   "name": "python",
   "nbconvert_exporter": "python",
   "pygments_lexer": "ipython3",
   "version": "3.12.3"
  }
 },
 "nbformat": 4,
 "nbformat_minor": 2
}
