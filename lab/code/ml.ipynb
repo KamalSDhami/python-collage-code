{
 "cells": [
  {
   "cell_type": "markdown",
   "metadata": {},
   "source": [
    "Linear, Logistic and Decision Tree in python\n",
    "1. Linear Regression\n",
    "2. Logistic Regression\n",
    "3. Decision Tree\n",
    "4. Performance Metrics (PMS)"
   ]
  },
  {
   "cell_type": "markdown",
   "metadata": {},
   "source": [
    "1. Linear Rgression \n",
    "* Linear regression is a statistical method for modeling the relationship etween one (or more ) independent variables (features) and one dependent variable (target).\n",
    "Note : coleanear line (when all point are in a straight line )"
   ]
  },
  {
   "cell_type": "markdown",
   "metadata": {},
   "source": [
    "mse = 1/n summition i =1 to n (yi - y(bar) i )^2"
   ]
  },
  {
   "cell_type": "markdown",
   "metadata": {},
   "source": [
    "by using a liinear regression model try to solve given task "
   ]
  },
  {
   "cell_type": "code",
   "execution_count": 2,
   "metadata": {},
   "outputs": [],
   "source": [
    "import pandas as pd \n",
    "from sklearn.model_selection import train_test_split\n",
    "df = pd.read_csv(\"studentData.csv\")\n",
    "x = df[['Hours_studied']]\n",
    "y = df['exam_score']\n",
    "\n"
   ]
  },
  {
   "cell_type": "code",
   "execution_count": 3,
   "metadata": {},
   "outputs": [
    {
     "name": "stdout",
     "output_type": "stream",
     "text": [
      "(10, 1) (10,)\n",
      "2 1\n",
      "<class 'pandas.core.frame.DataFrame'> <class 'pandas.core.series.Series'>\n"
     ]
    }
   ],
   "source": [
    "print(x.shape,y.shape)\n",
    "print(x.ndim,y.ndim)\n",
    "print(type(x),type(y))"
   ]
  },
  {
   "cell_type": "code",
   "execution_count": 4,
   "metadata": {},
   "outputs": [],
   "source": [
    "X_train,X_test,y_train,y_test = train_test_split(x,y,test_size=0.2,random_state =42)\n"
   ]
  },
  {
   "cell_type": "code",
   "execution_count": 10,
   "metadata": {},
   "outputs": [
    {
     "name": "stdout",
     "output_type": "stream",
     "text": [
      "slope (m) 5.387931034482759\n",
      "Intercept (b): 43.491379310344826\n",
      "Equation of the regression line : exam_score = 5.39 * Hours_studied + 43.49\n"
     ]
    }
   ],
   "source": [
    "from sklearn.linear_model import LinearRegression\n",
    "\n",
    "model = LinearRegression()\n",
    "model.fit(X_train,y_train)\n",
    "\n",
    "slope = model.coef_[0]\n",
    "intercept = model.intercept_\n",
    "\n",
    "print(\"slope (m)\",model.coef_[0])\n",
    "print(\"Intercept (b):\",model.intercept_)\n",
    "#y - mx _c (slope *input + intercept)\n",
    "print(f\"Equation of the regression line : exam_score = {slope:.2f} * Hours_studied + {intercept:.2f}\")"
   ]
  },
  {
   "cell_type": "code",
   "execution_count": null,
   "metadata": {},
   "outputs": [
    {
     "name": "stdout",
     "output_type": "stream",
     "text": [
      "   Hours_studied\n",
      "8              9\n",
      "1              2\n",
      "[75.81896552 48.87931034 86.59482759 59.65517241 97.37068966 70.43103448\n",
      " 65.04310345 81.20689655]\n",
      "8    90\n",
      "1    55\n",
      "Name: exam_score, dtype: int64\n"
     ]
    }
   ],
   "source": [
    "y_test_pred = model.predict(X_train)\n",
    "print(X_test)\n",
    "print(y_test_pred)#ndarray\n",
    "print(y_test)#series\n"
   ]
  },
  {
   "cell_type": "code",
   "execution_count": null,
   "metadata": {},
   "outputs": [],
   "source": [
    "from sklearn.metrics import mean_squared_error,r2_score\n",
    "mse = mean_squared_error(y_test,y_test_pred)\n",
    "print(\"mse train data : {mse:.2f}\")\n",
    "new_data = pd.DataFrame({'hours_studied : '[6]})\n",
    "predicted_score = model.predict(new_data)[0]\n",
    "print(f\"Predicted exam scroe for 6 hours studied : \"{predicted_score})"
   ]
  },
  {
   "cell_type": "markdown",
   "metadata": {},
   "source": []
  },
  {
   "cell_type": "code",
   "execution_count": null,
   "metadata": {},
   "outputs": [],
   "source": [
    "import pandas as pd\n",
    "import numpy as np\n",
    "from sklearn.model_selection import train_test_split\n",
    "df = pd.read_csv(studentData.csv)\n",
    "x = df[['Hours_Studied']]\n",
    "y = np.where (df['exam_score'])\n",
    "y = np.where(df['exam_score']>= 60,1,0)\n",
    "X_train,X_test,y_train,y_test = train_test_split(x,y,test_size=0.2,random_state =42)"
   ]
  },
  {
   "cell_type": "code",
   "execution_count": null,
   "metadata": {},
   "outputs": [],
   "source": [
    "from sklearn.linear_model import LogisticRegression\n",
    "\n",
    "\n",
    "coefficients = model.coef_[0]\n",
    "intercept = model.intercept_\n",
    "\n",
    "y_test_pred = model.predict(X_test)\n",
    "print(y_test)\n",
    "print(y_test_pred)"
   ]
  },
  {
   "cell_type": "code",
   "execution_count": null,
   "metadata": {},
   "outputs": [],
   "source": [
    "from sklearn.metrics import accuracy_score,confusion_matrix\n",
    "acucuracy = accuracy_score(y_test,y_test_pred)\n",
    "\n",
    "print (\"predicted value\")"
   ]
  },
  {
   "cell_type": "markdown",
   "metadata": {},
   "source": [
    "desision tree : leanearity "
   ]
  }
 ],
 "metadata": {
  "kernelspec": {
   "display_name": "Python 3",
   "language": "python",
   "name": "python3"
  },
  "language_info": {
   "codemirror_mode": {
    "name": "ipython",
    "version": 3
   },
   "file_extension": ".py",
   "mimetype": "text/x-python",
   "name": "python",
   "nbconvert_exporter": "python",
   "pygments_lexer": "ipython3",
   "version": "3.12.3"
  }
 },
 "nbformat": 4,
 "nbformat_minor": 2
}
