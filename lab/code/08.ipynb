{
 "cells": [
  {
   "cell_type": "markdown",
   "metadata": {
    "notebookRunGroups": {
     "groupValue": "2"
    }
   },
   "source": [
    "Topic to learn before A*\n",
    "heuristic function\n",
    "heuristic cost\n",
    "eucli distance\n",
    "wellretun distance\n"
   ]
  },
  {
   "cell_type": "code",
   "execution_count": 6,
   "metadata": {},
   "outputs": [
    {
     "name": "stdout",
     "output_type": "stream",
     "text": [
      "Shortest path: [(0, 0), (1, 0), (2, 0), (2, 1), (2, 2), (3, 2), (3, 3), (3, 4), (4, 4)]\n"
     ]
    }
   ],
   "source": [
    "import heapq\n",
    "\n",
    "class Node:\n",
    "    def __init__(self, position, parent=None, g=0, h=0):\n",
    "        self.position = position  \n",
    "        self.parent = parent      \n",
    "        self.g = g              \n",
    "        self.h = h               \n",
    "        self.f = g + h            \n",
    " \n",
    "    def __eq__(self, other):\n",
    "        return self.position == other.position\n",
    " \n",
    "    def __lt__(self, other):\n",
    "        return self.f < other.f\n",
    " \n",
    "def heuristic(a, b):\n",
    "    \n",
    "    return abs(a[0] - b[0]) + abs(a[1] - b[1])\n",
    " \n",
    "def get_neighbors(node, matrix):\n",
    "    \n",
    "    neighbors = []\n",
    "    rows, cols = len(matrix), len(matrix[0])\n",
    "    row, col = node.position\n",
    " \n",
    "    \n",
    "    directions = [(-1, 0), (1, 0), (0, -1), (0, 1)]\n",
    " \n",
    "    for d in directions:\n",
    "        new_row, new_col = row + d[0], col + d[1]\n",
    "        if 0 <= new_row < rows and 0 <= new_col < cols and matrix[new_row][new_col] == 0:\n",
    "            neighbors.append((new_row, new_col))\n",
    " \n",
    "    return neighbors\n",
    " \n",
    "def a_star(matrix, start, end):\n",
    "    \n",
    "    start_node = Node(start, None, 0, heuristic(start, end)) \n",
    "    end_node = Node(end, None)\n",
    "    open_list = []\n",
    "    heapq.heappush(open_list, start_node)\n",
    " \n",
    "    \n",
    "    closed_list = set() \n",
    "    while open_list:\n",
    "        current_node = heapq.heappop(open_list) \n",
    "        if current_node == end_node:\n",
    "            path = [] \n",
    "            while current_node is not None:\n",
    "                path.append(current_node.position) \n",
    "                current_node = current_node.parent \n",
    "            return path[::-1]  \n",
    " \n",
    "        closed_list.add(current_node.position)\n",
    " \n",
    "        for neighbor_pos in get_neighbors(current_node, matrix):\n",
    "            if neighbor_pos in closed_list:\n",
    "                continue\n",
    " \n",
    "            neighbor_g = current_node.g + 1\n",
    "            neighbor_node = Node(neighbor_pos, current_node, neighbor_g, heuristic(neighbor_pos, end))\n",
    " \n",
    "            if neighbor_node not in open_list:\n",
    "                heapq.heappush(open_list, neighbor_node)\n",
    " \n",
    "    return None  \n",
    " \n",
    "# Test case\n",
    "matrix = [\n",
    "    [0, 1, 0, 0, 0],\n",
    "    [0, 1, 0, 1, 0],\n",
    "    [0, 0, 0, 1, 0],\n",
    "    [0, 1, 0, 0, 0],\n",
    "    [0, 0, 0, 1, 0]\n",
    "]\n",
    " \n",
    "start = (0, 0)  \n",
    "end = (4, 4)    \n",
    " \n",
    "path = a_star(matrix, start, end)\n",
    " \n",
    "if path:\n",
    "    print(\"Shortest path:\", path)\n",
    "else:\n",
    "    print(\"No path found\")"
   ]
  }
 ],
 "metadata": {
  "kernelspec": {
   "display_name": "Python 3",
   "language": "python",
   "name": "python3"
  },
  "language_info": {
   "codemirror_mode": {
    "name": "ipython",
    "version": 3
   },
   "file_extension": ".py",
   "mimetype": "text/x-python",
   "name": "python",
   "nbconvert_exporter": "python",
   "pygments_lexer": "ipython3",
   "version": "3.12.3"
  }
 },
 "nbformat": 4,
 "nbformat_minor": 2
}
