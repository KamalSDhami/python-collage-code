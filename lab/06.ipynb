{
 "cells": [
  {
   "cell_type": "code",
   "execution_count": 7,
   "metadata": {},
   "outputs": [
    {
     "name": "stdout",
     "output_type": "stream",
     "text": [
      "Inside ABC class and abc ()\n",
      "12\n",
      "17\n"
     ]
    }
   ],
   "source": [
    "#Class, object and __init__() method in python\n",
    "class ABC:\n",
    "    def abc(self,a):\n",
    "        self.a =a +5\n",
    "        print(\"Inside ABC class and abc ()\")\n",
    "        print(a)\n",
    "obj = ABC()\n",
    "obj.abc(12)\n",
    "print(obj.a)"
   ]
  },
  {
   "cell_type": "code",
   "execution_count": 14,
   "metadata": {},
   "outputs": [
    {
     "name": "stdout",
     "output_type": "stream",
     "text": [
      "Hello\n",
      "15\n",
      "Hello\n",
      "12\n"
     ]
    }
   ],
   "source": [
    "class ABC:\n",
    "    def __init__(self,value=0,left=None,right=None):\n",
    "        self.value = value\n",
    "        self.left = left\n",
    "        self.right= right\n",
    "        print(\"Hello\")\n",
    "        print(value)\n",
    "obj =ABC(15)\n",
    "obj =ABC(12)"
   ]
  },
  {
   "cell_type": "code",
   "execution_count": 4,
   "metadata": {},
   "outputs": [
    {
     "name": "stderr",
     "output_type": "stream",
     "text": [
      "<>:6: SyntaxWarning: invalid escape sequence '\\ '\n",
      "<>:6: SyntaxWarning: invalid escape sequence '\\ '\n",
      "C:\\Users\\devdh\\AppData\\Local\\Temp\\ipykernel_4208\\4085844487.py:6: SyntaxWarning: invalid escape sequence '\\ '\n",
      "  '''constructing a simple binary tree\n"
     ]
    }
   ],
   "source": [
    "class TreeNode:\n",
    "    def __init__(self,value=0,left=None,right=None):\n",
    "        self.value = value\n",
    "        self.left = left\n",
    "        self.right= right\n",
    "'''constructing a simple binary tree\n",
    "                1\n",
    "              /   \\\n",
    "             2     3\n",
    "            / \\   / \\\n",
    "           4   5 6   7 \n",
    "Maintain a queue and a visitedNodes'''\n",
    "root = TreeNode(1) #{root(1,None,None)}\n",
    "root.left = TreeNode(2) #{(1,{2(None,None)},None)}\n",
    "root.right = TreeNode(3)#{(1,{2(None,None)},{3(None,None)})}\n",
    "root.left.left = TreeNode(4)\n",
    "root.left.right = TreeNode(5)\n",
    "root.right.left = TreeNode(6)\n",
    "root.right.right = TreeNode(7)"
   ]
  },
  {
   "cell_type": "code",
   "execution_count": 5,
   "metadata": {},
   "outputs": [],
   "source": [
    "def bfs(root):\n",
    "    \n",
    "    if not root:\n",
    "        return[]\n",
    "\n",
    "    queue = [root] #list of objects\n",
    "    visitedNodes = []\n",
    "    \n",
    "    while queue:\n",
    "        node = queue.pop(0)\n",
    "        visitedNodes.append(node.value)\n",
    "        \n",
    "        if node.left:\n",
    "            queue.append(node.left)\n",
    "        if node.right:\n",
    "            queue.append(node.right)\n",
    "    return visitedNodes"
   ]
  },
  {
   "cell_type": "code",
   "execution_count": 23,
   "metadata": {},
   "outputs": [],
   "source": [
    "def dfs(root):\n",
    "    \n",
    "    if not root:\n",
    "        return[]\n",
    "\n",
    "    stack = [root] #list of objects\n",
    "    visitedNodes = []\n",
    "    \n",
    "    while stack:\n",
    "        node = stack.pop()\n",
    "        visitedNodes.append(node.value)\n",
    "        \n",
    "        if node.right:\n",
    "            stack.append(node.right)\n",
    "        if node.left:\n",
    "            stack.append(node.left)\n",
    "    return visitedNodes"
   ]
  },
  {
   "cell_type": "code",
   "execution_count": 24,
   "metadata": {},
   "outputs": [
    {
     "name": "stdout",
     "output_type": "stream",
     "text": [
      "[1, 2, 3, 4, 5, 6, 7]\n",
      "[1, 2, 4, 5, 3, 6, 7]\n"
     ]
    }
   ],
   "source": [
    "visitedNodes = bfs(root)\n",
    "print(visitedNodes) #[1,2,3,4,5,6,7]\n",
    "\n",
    "visitedNodes = dfs(root)\n",
    "print(visitedNodes)"
   ]
  },
  {
   "cell_type": "markdown",
   "metadata": {},
   "source": [
    "#search stratigies & A* heuristics\n",
    "1 search strategies \n",
    "1.1  Breadth -firs search \n",
    "A breadth -first earch is when you  ...                                                                                    jksajdfl"
   ]
  },
  {
   "cell_type": "markdown",
   "metadata": {},
   "source": [
    "p5 (5a-5d)\n",
    "p6 Python program to impliment bfs.\n",
    "p7 Python program to impliment  dfs.\n",
    "p8 writeh python prgoram to implement A*\n",
    "p9 pandas"
   ]
  }
 ],
 "metadata": {
  "kernelspec": {
   "display_name": "Python 3",
   "language": "python",
   "name": "python3"
  },
  "language_info": {
   "codemirror_mode": {
    "name": "ipython",
    "version": 3
   },
   "file_extension": ".py",
   "mimetype": "text/x-python",
   "name": "python",
   "nbconvert_exporter": "python",
   "pygments_lexer": "ipython3",
   "version": "3.12.3"
  }
 },
 "nbformat": 4,
 "nbformat_minor": 2
}
