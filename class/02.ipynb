{
 "cells": [
  {
   "cell_type": "markdown",
   "metadata": {},
   "source": [
    "premitive datatype are imutable "
   ]
  },
  {
   "cell_type": "code",
   "execution_count": 15,
   "metadata": {},
   "outputs": [
    {
     "name": "stdout",
     "output_type": "stream",
     "text": [
      "140705806752472\n",
      "140705806752504\n",
      "140705806752472\n"
     ]
    }
   ],
   "source": [
    "a= 10\n",
    "b=10\n",
    "print(id(a))\n",
    "a+=1\n",
    "print(id(a))\n",
    "print(id(b))\n"
   ]
  },
  {
   "cell_type": "markdown",
   "metadata": {},
   "source": [
    "#string indexing "
   ]
  },
  {
   "cell_type": "code",
   "execution_count": 18,
   "metadata": {},
   "outputs": [
    {
     "name": "stdout",
     "output_type": "stream",
     "text": [
      "Text in string 1:  python programming \n",
      "First character of sting is :  m\n"
     ]
    }
   ],
   "source": [
    "string1 = \"python programming \"\n",
    "print(\"Text in string 1: \",string1)\n",
    "\n",
    "print (\"First character of sting is : \",string1[-5])\n"
   ]
  },
  {
   "cell_type": "code",
   "execution_count": 22,
   "metadata": {},
   "outputs": [
    {
     "name": "stdout",
     "output_type": "stream",
     "text": [
      "initial String :  Graphic Era Hill University\n",
      "\n",
      " slicing characters from 3 - 12 :  phic Era \n",
      "\n",
      " Slicing characters between  3rd and 2nd last character :  phic Era Hill Universi\n",
      "strig length :  27\n"
     ]
    }
   ],
   "source": [
    "string1 = \"Graphic Era Hill University\"\n",
    "print(\"initial String : \",string1)\n",
    "\n",
    "print(\"\\n slicing characters from 3 - 12 : \" ,string1[3:12])\n",
    "\n",
    "print(\"\\n Slicing characters between \" +  \" 3rd and 2nd last character : \", string1[3:-2])\n",
    "print(\"strig length : \", len(string1))\n",
    "\n"
   ]
  },
  {
   "cell_type": "markdown",
   "metadata": {},
   "source": [
    "#modify string"
   ]
  },
  {
   "cell_type": "code",
   "execution_count": 25,
   "metadata": {},
   "outputs": [
    {
     "name": "stdout",
     "output_type": "stream",
     "text": [
      "String Length :  GRAPHIC ERA HILL UNIVERSITY\n",
      "graphic era Hill university\n"
     ]
    }
   ],
   "source": [
    "string1 = \"graphic era Hill university\"\n",
    "print(\"String Length : \",string1.upper())\n",
    "\n",
    "print(string1.strip())"
   ]
  }
 ],
 "metadata": {
  "kernelspec": {
   "display_name": "Python 3",
   "language": "python",
   "name": "python3"
  },
  "language_info": {
   "codemirror_mode": {
    "name": "ipython",
    "version": 3
   },
   "file_extension": ".py",
   "mimetype": "text/x-python",
   "name": "python",
   "nbconvert_exporter": "python",
   "pygments_lexer": "ipython3",
   "version": "3.12.3"
  }
 },
 "nbformat": 4,
 "nbformat_minor": 2
}
