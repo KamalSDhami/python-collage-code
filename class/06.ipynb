{
 "cells": [
  {
   "cell_type": "code",
   "execution_count": 13,
   "metadata": {},
   "outputs": [
    {
     "name": "stdout",
     "output_type": "stream",
     "text": [
      "Value of x  6\n",
      "value of x in calling  None\n",
      "After calling x =  6\n"
     ]
    }
   ],
   "source": [
    "#local variable\n",
    "def dis():\n",
    "    global x \n",
    "    x = x+1\n",
    "    print(\"Value of x \",x)\n",
    "    return x\n",
    "x = 5 \n",
    "print(\"value of x in calling \", dis())\n",
    "print(\"After calling x = \",x)"
   ]
  },
  {
   "cell_type": "code",
   "execution_count": 21,
   "metadata": {},
   "outputs": [
    {
     "name": "stdout",
     "output_type": "stream",
     "text": [
      "15\n",
      "13\n"
     ]
    }
   ],
   "source": [
    "x = lambda a:a+10\n",
    "print(x(5))\n",
    "\n",
    "x = lambda a,b,c:a+b+c\n",
    "print(x(5,6,2))\n"
   ]
  }
 ],
 "metadata": {
  "kernelspec": {
   "display_name": "Python 3",
   "language": "python",
   "name": "python3"
  },
  "language_info": {
   "codemirror_mode": {
    "name": "ipython",
    "version": 3
   },
   "file_extension": ".py",
   "mimetype": "text/x-python",
   "name": "python",
   "nbconvert_exporter": "python",
   "pygments_lexer": "ipython3",
   "version": "3.12.3"
  }
 },
 "nbformat": 4,
 "nbformat_minor": 2
}
