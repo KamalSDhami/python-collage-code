{
 "cells": [
  {
   "cell_type": "markdown",
   "metadata": {},
   "source": [
    "operators\n",
    "\n",
    "types\n",
    "1) arthmaetic operators (+,-,*,**,%,/,//,)\n",
    "2) comparison operators (<,>,==)\n",
    "3) logical oprators(is , elif, else)\n",
    "4) bitwise operators (|, &,^(xor),~(not))\n",
    "5) assignment  oprators (=)\n",
    "6) identity operators (is or is not)\n",
    "7) membership oprators (in or not in)"
   ]
  },
  {
   "cell_type": "code",
   "execution_count": 1,
   "metadata": {},
   "outputs": [
    {
     "name": "stdout",
     "output_type": "stream",
     "text": [
      "a and b 0\n",
      "a or b  14\n",
      "a>>1 5\n",
      "b>>1 2\n"
     ]
    }
   ],
   "source": [
    "# = += -=\n",
    "\n",
    "a=10\n",
    "b=4\n",
    "print(\"a and b\" ,a&b)\n",
    "print(\"a or b \",a|b)\n",
    "print( \"a>>1\",a>>1) #compliment\n",
    "print( \"b>>1\",b>>1) #compliment\n"
   ]
  },
  {
   "cell_type": "markdown",
   "metadata": {},
   "source": [
    "Python Identity operators(is,is not)"
   ]
  },
  {
   "cell_type": "code",
   "execution_count": 2,
   "metadata": {},
   "outputs": [
    {
     "name": "stdout",
     "output_type": "stream",
     "text": [
      "True\n"
     ]
    }
   ],
   "source": [
    "a = [1,2,3,4,5,6]\n",
    "b =a\n",
    "#itentity opratorxs are used to compare the objectts, not if they are equal,but if they are actually the same object,with the same memory location\n",
    "print(b is a)"
   ]
  },
  {
   "cell_type": "markdown",
   "metadata": {},
   "source": [
    "Memborship oprator (in, not in )"
   ]
  },
  {
   "cell_type": "code",
   "execution_count": 3,
   "metadata": {},
   "outputs": [
    {
     "name": "stdout",
     "output_type": "stream",
     "text": [
      "True\n",
      "False\n"
     ]
    }
   ],
   "source": [
    "my_list = [1,2,3,4,5]\n",
    "print(1 in my_list)\n",
    "print(1 not in my_list)"
   ]
  },
  {
   "cell_type": "code",
   "execution_count": 4,
   "metadata": {},
   "outputs": [
    {
     "name": "stdout",
     "output_type": "stream",
     "text": [
      "g is present in Graphic Era Hill University  False\n"
     ]
    }
   ],
   "source": [
    "print(\"g is present in Graphic Era Hill University \",'g'in \"Graphic Era Hill University\")"
   ]
  },
  {
   "cell_type": "code",
   "execution_count": 5,
   "metadata": {},
   "outputs": [
    {
     "name": "stdout",
     "output_type": "stream",
     "text": [
      "9771944   9771944\n",
      "136844952052288   136844952052096   136844952052288\n",
      "136844954434800   136844954434608\n"
     ]
    }
   ],
   "source": [
    "#of 'is' identity operator \n",
    "num1 = 5\n",
    "num2 =5\n",
    "print(id(num1),\" \",id(num2))\n",
    "\n",
    "list1= [1,2,3]\n",
    "list2= [1,2,3]\n",
    "list3 = list1\n",
    "print(id(list1),\" \",id(list2), \" \", id(list3))\n",
    "\n",
    "str1 = \"hello world\"\n",
    "str2 = \"hello world\"\n",
    "print(id(str1),\" \",id(str2))"
   ]
  },
  {
   "cell_type": "markdown",
   "metadata": {},
   "source": [
    "One line statement"
   ]
  },
  {
   "cell_type": "code",
   "execution_count": 6,
   "metadata": {},
   "outputs": [
    {
     "name": "stdout",
     "output_type": "stream",
     "text": [
      "B\n",
      "=\n"
     ]
    }
   ],
   "source": [
    "a = 2\n",
    "b = 330\n",
    "print(\"A\") if a> b else print (\"B\")\n",
    "\n",
    "a = 330\n",
    "b = 330\n",
    "print(\"A\") if a> b else print(\"=\") if a==b else print(\"b\")"
   ]
  },
  {
   "cell_type": "code",
   "execution_count": 7,
   "metadata": {},
   "outputs": [],
   "source": [
    "a = 33\n",
    "b =22\n",
    "\n",
    "if b>a:\n",
    "    pass"
   ]
  },
  {
   "cell_type": "code",
   "execution_count": 2,
   "metadata": {},
   "outputs": [
    {
     "name": "stdout",
     "output_type": "stream",
     "text": [
      "Positive\n"
     ]
    }
   ],
   "source": [
    "number = int(input(\"Enter your age \"))\n",
    "if number >0:\n",
    "    print(\"Positive\")\n",
    "elif number <0 :\n",
    "    print(\"Negative\")\n",
    "else:\n",
    "    print(\"Zero\")"
   ]
  },
  {
   "cell_type": "code",
   "execution_count": null,
   "metadata": {},
   "outputs": [],
   "source": []
  }
 ],
 "metadata": {
  "kernelspec": {
   "display_name": "base",
   "language": "python",
   "name": "python3"
  },
  "language_info": {
   "codemirror_mode": {
    "name": "ipython",
    "version": 3
   },
   "file_extension": ".py",
   "mimetype": "text/x-python",
   "name": "python",
   "nbconvert_exporter": "python",
   "pygments_lexer": "ipython3",
   "version": "3.12.4"
  }
 },
 "nbformat": 4,
 "nbformat_minor": 2
}
