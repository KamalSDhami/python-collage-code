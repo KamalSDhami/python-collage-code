{
 "cells": [
  {
   "cell_type": "code",
   "execution_count": 8,
   "metadata": {},
   "outputs": [],
   "source": [
    "class student :\n",
    "    def __init__(self,name,section,rollno):\n",
    "        self.name = name\n",
    "        self.section = section\n",
    "        self.rollno = rollno\n",
    "        "
   ]
  },
  {
   "cell_type": "code",
   "execution_count": 9,
   "metadata": {},
   "outputs": [],
   "source": [
    "a = student \n",
    "a.name = 'Kamal Singh Dhami'\n",
    "a.age = 19\n",
    "a.section = 'K2'\n"
   ]
  },
  {
   "cell_type": "code",
   "execution_count": 10,
   "metadata": {},
   "outputs": [
    {
     "name": "stdout",
     "output_type": "stream",
     "text": [
      "Name : Kamal Singh Dhami\n",
      "Age : 19\n",
      "Section : K2\n"
     ]
    }
   ],
   "source": [
    "print(f\"Name : {a.name}\\nAge : {a.age}\\nSection : {a.section}\")"
   ]
  },
  {
   "cell_type": "code",
   "execution_count": null,
   "metadata": {},
   "outputs": [
    {
     "name": "stdout",
     "output_type": "stream",
     "text": [
      "1Name : Kamal Singh Dhami\n",
      "Age : 19\n",
      "Section : K2\n",
      "2Name : Kamal Singh Dhami\n",
      "Age : 19\n",
      "Section : K2\n"
     ]
    }
   ],
   "source": [
    "a = []\n",
    "x  = int (input('Enter the number of element you want to enter :'))\n",
    "for i in range (x):\n",
    "    name = input(\"Name : \")\n",
    "    age = int(input(\"Age : \"))\n",
    "    section = input(\"Section : \")\n",
    "    s= student(name,age,section)\n",
    "    a.append(s)\n",
    "c = 1\n",
    "for i in a:\n",
    "    print(c,end =\"\")\n",
    "    print(f\"Name : {i.name}\")\n",
    "    print(f\"Age : {i.age}\")\n",
    "    print(f\"Section : {i.section}\")\n",
    "    c+=1\n",
    "    \n"
   ]
  },
  {
   "cell_type": "code",
   "execution_count": null,
   "metadata": {},
   "outputs": [],
   "source": []
  }
 ],
 "metadata": {
  "kernelspec": {
   "display_name": "Python 3",
   "language": "python",
   "name": "python3"
  },
  "language_info": {
   "codemirror_mode": {
    "name": "ipython",
    "version": 3
   },
   "file_extension": ".py",
   "mimetype": "text/x-python",
   "name": "python",
   "nbconvert_exporter": "python",
   "pygments_lexer": "ipython3",
   "version": "3.12.3"
  }
 },
 "nbformat": 4,
 "nbformat_minor": 2
}
