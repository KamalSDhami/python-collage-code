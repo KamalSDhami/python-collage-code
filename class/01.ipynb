{
 "cells": [
  {
   "cell_type": "code",
   "execution_count": 2,
   "metadata": {},
   "outputs": [
    {
     "name": "stdout",
     "output_type": "stream",
     "text": [
      "Hello world my name is kamal!\n"
     ]
    }
   ],
   "source": [
    "print(\"Hello world my name is %s!\" %\"kamal\")"
   ]
  },
  {
   "cell_type": "markdown",
   "metadata": {},
   "source": [
    "keywords are some predefine and reserved words in pyhton that have special meanings keywords are used to define the syntax of codeint."
   ]
  },
  {
   "cell_type": "markdown",
   "metadata": {},
   "source": [
    "tules for naming python identifiers .\n",
    "it cannot be a reserved python keyword\n",
    "itshould not contain white space.\n",
    "it can be a comination of A-xxZ,a=z,0-9 or undersore.\n",
    "it should start with an alphabet character or an undersocere(_).\n",
    "it should not contain any special charecter orther than an underscore (_).\n"
   ]
  },
  {
   "cell_type": "markdown",
   "metadata": {},
   "source": [
    "vlid identifiers:\n",
    "var1\n",
    "_var1\n",
    "_1_var\n",
    "var_1\n",
    "\n",
    "Invalid identifiers\n",
    "!var1\n",
    "1var\n",
    "1_var\n",
    "var#1\n",
    "var1"
   ]
  },
  {
   "cell_type": "markdown",
   "metadata": {},
   "source": [
    "#complex number"
   ]
  },
  {
   "cell_type": "code",
   "execution_count": 5,
   "metadata": {},
   "outputs": [
    {
     "name": "stdout",
     "output_type": "stream",
     "text": [
      "(5+6j)\n"
     ]
    }
   ],
   "source": [
    "\n",
    "a = 5+6j\n",
    "print(a)"
   ]
  },
  {
   "cell_type": "code",
   "execution_count": 7,
   "metadata": {},
   "outputs": [
    {
     "name": "stdout",
     "output_type": "stream",
     "text": [
      "Age 19 Present True Company None\n"
     ]
    }
   ],
   "source": [
    "a = 19  \n",
    "present = True\n",
    "comp = None \n",
    "print(\"Age {} Present {} Company {}\".format(a,present,comp))\n"
   ]
  },
  {
   "cell_type": "code",
   "execution_count": 7,
   "metadata": {},
   "outputs": [
    {
     "name": "stdout",
     "output_type": "stream",
     "text": [
      "Name : kamal, Age: 19\n"
     ]
    }
   ],
   "source": [
    "name = \"kamal\"\n",
    "age = 19\n",
    "print(\"Name : {}, Age: {}\".format(name,age))\n",
    "\n",
    "\n"
   ]
  }
 ],
 "metadata": {
  "kernelspec": {
   "display_name": "Python 3",
   "language": "python",
   "name": "python3"
  },
  "language_info": {
   "codemirror_mode": {
    "name": "ipython",
    "version": 3
   },
   "file_extension": ".py",
   "mimetype": "text/x-python",
   "name": "python",
   "nbconvert_exporter": "python",
   "pygments_lexer": "ipython3",
   "version": "3.12.3"
  }
 },
 "nbformat": 4,
 "nbformat_minor": 2
}
